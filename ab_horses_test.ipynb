{
 "cells": [
  {
   "cell_type": "markdown",
   "metadata": {},
   "source": [
    "# Wikipedia Data Exploration\n",
    "\n",
    "Starting with the query of the Wikipedia API using ```pywikibot``` to get the links for the articles on ```horses```, which we then mapped to their resolved IDs using the mappings from Wikidata.\n",
    "\n",
    "```Pywikibot``` is a Python library and collection of tools that automate work on MediaWiki sites. Originally designed for Wikipedia, it is now used throughout the Wikimedia Foundation's projects and on many other MediaWiki wikis."
   ]
  },
  {
   "cell_type": "markdown",
   "metadata": {},
   "source": [
    "### Task:\n",
    "1. Explore data that on Mediawiki links,\n",
    "2. Document the usage of an API to retrieve wiki data. \n",
    "3. Details what: trying to identify some interesting links (users & pages they edited, pages & page references, pages &topics, etc).\n",
    "\n",
    "4. formulate one interesting research question in the beginning (e.g., Are most editors of wiki pages making frequent contributions to a broad range of topics on the platform or are they primarily occasional contributors with a narrow topic focus?) 3) demonstrate how your analysis attempts to address the question.\n",
    "\n",
    "5. begin with some basic exploratory analysis of the data relevant for answering your research questions. E.g., look at some of the page revisions history and count various things like number of unique editors, number of edits within a one week period, one month period, size of edits and so on.\n",
    "\n",
    "6. Generate some plots (bar charts, histograms, violin plots etc.) to illustrate the exploratory analysis you did \n",
    "\n",
    "7. Once you have identified an interesting link to explore, then construct a network from the data and generate a visualization of the network. \n",
    "\n",
    "8. It would also be nice to have some statistics computed on the network structure (e.g., degree distribution). \n",
    "\n",
    "9. The task is intentionally design with the freedom to explore what you think is relevant and interesting. focus on being creative and scientific with how you approach the data.\n",
    "\n",
    "Links:\n",
    "- https://www.mediawiki.org/wiki/API:Main_page\n",
    "- https://www.mediawiki.org/wiki/API:Revisions\n",
    "\n"
   ]
  },
  {
   "cell_type": "markdown",
   "metadata": {},
   "source": [
    "### Defining the Research Question\n",
    "The most edited content on horses"
   ]
  },
  {
   "cell_type": "code",
   "execution_count": 1,
   "metadata": {},
   "outputs": [],
   "source": [
    "import pywikibot\n",
    "from pywikibot import pagegenerators as pg\n",
    "import numpy as np \n",
    "import pandas as pd"
   ]
  },
  {
   "cell_type": "code",
   "execution_count": 2,
   "metadata": {},
   "outputs": [],
   "source": [
    "def list_template_usage(site_obj, tmpl_name):\n",
    "    \"\"\"\n",
    "    \n",
    "    :param site_obj: site object (pywikibot.Site())\n",
    "    :param tmpl_name: template name (String)\n",
    "    :return: a generator object\n",
    "      \n",
    "    It creates a list of all\n",
    "    pages using that template and returns them as a generator.\n",
    "    The generator will load 50 pages at a time for iteration.\n",
    "    \"\"\"\n",
    "    \n",
    "    name = \"{}:{}\".format(site_obj.namespace(10), tmpl_name)\n",
    "    tmpl_page = pywikibot.Page(site_obj, name)\n",
    "    ref_gen = pg.ReferringPageGenerator(tmpl_page, onlyTemplateInclusion=True)\n",
    "    filter_gen = pg.NamespaceFilterPageGenerator(ref_gen, namespaces=[0])\n",
    "    gen = site_obj.preloadpages(filter_gen, pageprops=True)\n",
    "    return gen"
   ]
  },
  {
   "cell_type": "code",
   "execution_count": 3,
   "metadata": {},
   "outputs": [
    {
     "name": "stderr",
     "output_type": "stream",
     "text": [
      "Retrieving 50 pages from wikipedia:en.\n",
      "Retrieving 50 pages from wikipedia:en.\n",
      "Retrieving 50 pages from wikipedia:en.\n",
      "Retrieving 50 pages from wikipedia:en.\n",
      "Retrieving 50 pages from wikipedia:en.\n",
      "Retrieving 31 pages from wikipedia:en.\n"
     ]
    }
   ],
   "source": [
    "site = pywikibot.Site(\"en\", 'wikipedia')\n",
    "tmpl_gen = list_template_usage(site, \"Infobox horse\")\n",
    "l_temp = []\n",
    "for page in tmpl_gen:\n",
    "    item = pywikibot.ItemPage.fromPage(page)\n",
    "    temp = [page.title(), item.getID(), item.contributors(), item.editTime()]\n",
    "    l_temp.append(temp)"
   ]
  },
  {
   "cell_type": "code",
   "execution_count": 36,
   "metadata": {},
   "outputs": [
    {
     "data": {
      "text/html": [
       "<div>\n",
       "<style scoped>\n",
       "    .dataframe tbody tr th:only-of-type {\n",
       "        vertical-align: middle;\n",
       "    }\n",
       "\n",
       "    .dataframe tbody tr th {\n",
       "        vertical-align: top;\n",
       "    }\n",
       "\n",
       "    .dataframe thead th {\n",
       "        text-align: right;\n",
       "    }\n",
       "</style>\n",
       "<table border=\"1\" class=\"dataframe\">\n",
       "  <thead>\n",
       "    <tr style=\"text-align: right;\">\n",
       "      <th></th>\n",
       "      <th>breed</th>\n",
       "      <th>page_ID</th>\n",
       "      <th>contributor_nr</th>\n",
       "      <th>last revision</th>\n",
       "      <th>total_edits</th>\n",
       "    </tr>\n",
       "  </thead>\n",
       "  <tbody>\n",
       "    <tr>\n",
       "      <th>0</th>\n",
       "      <td>Thoroughbred</td>\n",
       "      <td>Q210826</td>\n",
       "      <td>{'Máté': 1, 'KrBot': 3, 'MatSuBot': 2, 'Simon ...</td>\n",
       "      <td>2018-12-08 17:56:48</td>\n",
       "      <td>116</td>\n",
       "    </tr>\n",
       "    <tr>\n",
       "      <th>1</th>\n",
       "      <td>Mustang</td>\n",
       "      <td>Q211848</td>\n",
       "      <td>{'189.202.74.129': 1, 'KrBot': 3, 'MatSuBot': ...</td>\n",
       "      <td>2018-11-14 20:48:33</td>\n",
       "      <td>85</td>\n",
       "    </tr>\n",
       "    <tr>\n",
       "      <th>2</th>\n",
       "      <td>Arabian horse</td>\n",
       "      <td>Q184138</td>\n",
       "      <td>{'جار الله': 1, 'Russian Rocky': 1, 'KrBot': 2...</td>\n",
       "      <td>2018-12-19 22:52:54</td>\n",
       "      <td>81</td>\n",
       "    </tr>\n",
       "    <tr>\n",
       "      <th>3</th>\n",
       "      <td>Akhal-Teke</td>\n",
       "      <td>Q472753</td>\n",
       "      <td>{'Russian Rocky': 1, 'KrBot': 3, 'Czeva': 1, '...</td>\n",
       "      <td>2018-12-16 09:00:29</td>\n",
       "      <td>62</td>\n",
       "    </tr>\n",
       "    <tr>\n",
       "      <th>4</th>\n",
       "      <td>Andalusian horse</td>\n",
       "      <td>Q489798</td>\n",
       "      <td>{'KrBot': 4, 'MatSuBot': 3, 'Ma3r': 1, 'Magnus...</td>\n",
       "      <td>2018-11-02 23:19:31</td>\n",
       "      <td>60</td>\n",
       "    </tr>\n",
       "  </tbody>\n",
       "</table>\n",
       "</div>"
      ],
      "text/plain": [
       "              breed  page_ID  \\\n",
       "0      Thoroughbred  Q210826   \n",
       "1           Mustang  Q211848   \n",
       "2     Arabian horse  Q184138   \n",
       "3        Akhal-Teke  Q472753   \n",
       "4  Andalusian horse  Q489798   \n",
       "\n",
       "                                      contributor_nr       last revision  \\\n",
       "0  {'Máté': 1, 'KrBot': 3, 'MatSuBot': 2, 'Simon ... 2018-12-08 17:56:48   \n",
       "1  {'189.202.74.129': 1, 'KrBot': 3, 'MatSuBot': ... 2018-11-14 20:48:33   \n",
       "2  {'جار الله': 1, 'Russian Rocky': 1, 'KrBot': 2... 2018-12-19 22:52:54   \n",
       "3  {'Russian Rocky': 1, 'KrBot': 3, 'Czeva': 1, '... 2018-12-16 09:00:29   \n",
       "4  {'KrBot': 4, 'MatSuBot': 3, 'Ma3r': 1, 'Magnus... 2018-11-02 23:19:31   \n",
       "\n",
       "   total_edits  \n",
       "0          116  \n",
       "1           85  \n",
       "2           81  \n",
       "3           62  \n",
       "4           60  "
      ]
     },
     "execution_count": 36,
     "metadata": {},
     "output_type": "execute_result"
    }
   ],
   "source": [
    "df = pd.DataFrame(l_temp, columns = [\"breed\", \"page_ID\", \"contributor_nr\", \"last revision\"])\n",
    "\n",
    "# Change the last revision to datetime column\n",
    "df['last revision'] = pd.to_datetime(df['last revision'], format=\"%Y-%b-%d\")\n",
    "\n",
    "# # Retrieve total edits much faster and cleaner way\n",
    "df['total_edits'] = df[\"contributor_nr\"].apply(lambda x: sum(x.values()))\n",
    "\n",
    "# sort in descending order by total_edits\n",
    "df.sort_values(by=['total_edits'], axis=0, ascending = False, inplace=True)\n",
    "\n",
    "# reset the indexes of data\n",
    "df = df.reset_index(drop=True)\n",
    "\n",
    "df.head()"
   ]
  },
  {
   "cell_type": "code",
   "execution_count": 37,
   "metadata": {},
   "outputs": [
    {
     "name": "stdout",
     "output_type": "stream",
     "text": [
      "<class 'pandas.core.frame.DataFrame'>\n",
      "RangeIndex: 281 entries, 0 to 280\n",
      "Data columns (total 5 columns):\n",
      "breed             281 non-null object\n",
      "page_ID           281 non-null object\n",
      "contributor_nr    281 non-null object\n",
      "last revision     281 non-null datetime64[ns]\n",
      "total_edits       281 non-null int64\n",
      "dtypes: datetime64[ns](1), int64(1), object(3)\n",
      "memory usage: 11.1+ KB\n"
     ]
    }
   ],
   "source": [
    "df.info()\n",
    "\n",
    "# Make sure no column values are missing"
   ]
  },
  {
   "cell_type": "code",
   "execution_count": 38,
   "metadata": {},
   "outputs": [
    {
     "data": {
      "text/plain": [
       "(281, 5)"
      ]
     },
     "execution_count": 38,
     "metadata": {},
     "output_type": "execute_result"
    }
   ],
   "source": [
    "df.shape"
   ]
  },
  {
   "cell_type": "markdown",
   "metadata": {},
   "source": [
    "## list of all & unique contributors\n"
   ]
  },
  {
   "cell_type": "code",
   "execution_count": 39,
   "metadata": {},
   "outputs": [
    {
     "name": "stdout",
     "output_type": "stream",
     "text": [
      "All Contributors:  4723\n"
     ]
    }
   ],
   "source": [
    "contributors = []\n",
    "for l in df[\"contributor_nr\"]:\n",
    "    contributors.extend(l)\n",
    "\n",
    "print(\"All Contributors: \", len(contributors))\n",
    "unique_contributors = list(set(contributors))\n",
    "# unique_contributors = pd.DataFrame(unique_contributors, columns=['User'])\n",
    "# print(\"Unique Contributors: \",len(unique_contributors))"
   ]
  },
  {
   "cell_type": "code",
   "execution_count": 8,
   "metadata": {},
   "outputs": [],
   "source": [
    "# ## Unique Contributors DataFrame\n",
    "\n",
    "# unique_contributors = pd.DataFrame(contributors, columns=['User'])\n",
    "# unique_contributors = unique_contributors.drop_duplicates().reset_index(drop=True)\n",
    "# print(len(unique_contributors))\n",
    "# unique_contributors"
   ]
  },
  {
   "cell_type": "markdown",
   "metadata": {},
   "source": [
    "## Total Edits by each user"
   ]
  },
  {
   "cell_type": "code",
   "execution_count": 40,
   "metadata": {},
   "outputs": [],
   "source": [
    "# initially, give a default value of count for each user\n",
    "contributor_edits_mapping = {user:0 for user in unique_contributors}\n",
    "\n",
    "for row in df[\"contributor_nr\"]:\n",
    "    for user in row:\n",
    "        contributor_edits_mapping[user] += int(row[user])\n",
    "        \n",
    "#contributor_edits_mapping[\"KrBot\"] - dictionary"
   ]
  },
  {
   "cell_type": "code",
   "execution_count": 41,
   "metadata": {},
   "outputs": [
    {
     "data": {
      "text/html": [
       "<div>\n",
       "<style scoped>\n",
       "    .dataframe tbody tr th:only-of-type {\n",
       "        vertical-align: middle;\n",
       "    }\n",
       "\n",
       "    .dataframe tbody tr th {\n",
       "        vertical-align: top;\n",
       "    }\n",
       "\n",
       "    .dataframe thead th {\n",
       "        text-align: right;\n",
       "    }\n",
       "</style>\n",
       "<table border=\"1\" class=\"dataframe\">\n",
       "  <thead>\n",
       "    <tr style=\"text-align: right;\">\n",
       "      <th></th>\n",
       "      <th>User</th>\n",
       "      <th>Edits</th>\n",
       "    </tr>\n",
       "  </thead>\n",
       "  <tbody>\n",
       "    <tr>\n",
       "      <th>0</th>\n",
       "      <td>KrBot</td>\n",
       "      <td>586</td>\n",
       "    </tr>\n",
       "    <tr>\n",
       "      <th>1</th>\n",
       "      <td>Dexbot</td>\n",
       "      <td>434</td>\n",
       "    </tr>\n",
       "    <tr>\n",
       "      <th>2</th>\n",
       "      <td>Tsaag Valren</td>\n",
       "      <td>412</td>\n",
       "    </tr>\n",
       "    <tr>\n",
       "      <th>3</th>\n",
       "      <td>Legobot</td>\n",
       "      <td>408</td>\n",
       "    </tr>\n",
       "    <tr>\n",
       "      <th>4</th>\n",
       "      <td>GerardM</td>\n",
       "      <td>284</td>\n",
       "    </tr>\n",
       "  </tbody>\n",
       "</table>\n",
       "</div>"
      ],
      "text/plain": [
       "           User  Edits\n",
       "0         KrBot    586\n",
       "1        Dexbot    434\n",
       "2  Tsaag Valren    412\n",
       "3       Legobot    408\n",
       "4       GerardM    284"
      ]
     },
     "execution_count": 41,
     "metadata": {},
     "output_type": "execute_result"
    }
   ],
   "source": [
    "# As a Dataframe\n",
    "c_e_map_df = pd.DataFrame(list(contributor_edits_mapping.items()), columns=[\"User\", \"Edits\"], index=range(len(contributor_edits_mapping)))\n",
    "c_e_map_df.sort_values(by=['Edits'], axis=0, inplace=True, ascending = False)\n",
    "c_e_map_df = c_e_map_df.reset_index(drop=True)\n",
    "c_e_map_df.head()\n"
   ]
  },
  {
   "cell_type": "markdown",
   "metadata": {},
   "source": [
    "## Contributor, Breeds & Edits mapping"
   ]
  },
  {
   "cell_type": "code",
   "execution_count": 42,
   "metadata": {},
   "outputs": [],
   "source": [
    "# initially, give a default value of count for each user\n",
    "contributor_breed_edits_mapping = {user:dict() for user in unique_contributors}\n",
    "\n",
    "for index, row in df.iterrows():  \n",
    "    for user in row[\"contributor_nr\"]:\n",
    "        contributor_breed_edits_mapping[user].update({row[\"breed\"] : row[\"contributor_nr\"][user]})\n",
    "        \n",
    "# contributor_breed_edits_mapping[\"KrBot\"]"
   ]
  },
  {
   "cell_type": "code",
   "execution_count": 12,
   "metadata": {},
   "outputs": [
    {
     "data": {
      "text/html": [
       "<div>\n",
       "<style scoped>\n",
       "    .dataframe tbody tr th:only-of-type {\n",
       "        vertical-align: middle;\n",
       "    }\n",
       "\n",
       "    .dataframe tbody tr th {\n",
       "        vertical-align: top;\n",
       "    }\n",
       "\n",
       "    .dataframe thead th {\n",
       "        text-align: right;\n",
       "    }\n",
       "</style>\n",
       "<table border=\"1\" class=\"dataframe\">\n",
       "  <thead>\n",
       "    <tr style=\"text-align: right;\">\n",
       "      <th></th>\n",
       "      <th>User</th>\n",
       "      <th>Edits</th>\n",
       "    </tr>\n",
       "  </thead>\n",
       "  <tbody>\n",
       "    <tr>\n",
       "      <th>0</th>\n",
       "      <td>KrBot</td>\n",
       "      <td>586</td>\n",
       "    </tr>\n",
       "    <tr>\n",
       "      <th>1</th>\n",
       "      <td>Dexbot</td>\n",
       "      <td>434</td>\n",
       "    </tr>\n",
       "    <tr>\n",
       "      <th>2</th>\n",
       "      <td>Tsaag Valren</td>\n",
       "      <td>412</td>\n",
       "    </tr>\n",
       "    <tr>\n",
       "      <th>3</th>\n",
       "      <td>Legobot</td>\n",
       "      <td>408</td>\n",
       "    </tr>\n",
       "    <tr>\n",
       "      <th>4</th>\n",
       "      <td>GerardM</td>\n",
       "      <td>284</td>\n",
       "    </tr>\n",
       "    <tr>\n",
       "      <th>5</th>\n",
       "      <td>Shinnin</td>\n",
       "      <td>255</td>\n",
       "    </tr>\n",
       "    <tr>\n",
       "      <th>6</th>\n",
       "      <td>PLbot</td>\n",
       "      <td>180</td>\n",
       "    </tr>\n",
       "    <tr>\n",
       "      <th>7</th>\n",
       "      <td>MatSuBot</td>\n",
       "      <td>172</td>\n",
       "    </tr>\n",
       "    <tr>\n",
       "      <th>8</th>\n",
       "      <td>ThieolBot</td>\n",
       "      <td>162</td>\n",
       "    </tr>\n",
       "    <tr>\n",
       "      <th>9</th>\n",
       "      <td>BotNinja</td>\n",
       "      <td>148</td>\n",
       "    </tr>\n",
       "  </tbody>\n",
       "</table>\n",
       "</div>"
      ],
      "text/plain": [
       "           User  Edits\n",
       "0         KrBot    586\n",
       "1        Dexbot    434\n",
       "2  Tsaag Valren    412\n",
       "3       Legobot    408\n",
       "4       GerardM    284\n",
       "5       Shinnin    255\n",
       "6         PLbot    180\n",
       "7      MatSuBot    172\n",
       "8     ThieolBot    162\n",
       "9      BotNinja    148"
      ]
     },
     "execution_count": 12,
     "metadata": {},
     "output_type": "execute_result"
    }
   ],
   "source": [
    "Top10Users = c_e_map_df.head(10)\n",
    "Top10Users"
   ]
  },
  {
   "cell_type": "code",
   "execution_count": 43,
   "metadata": {},
   "outputs": [
    {
     "data": {
      "text/html": [
       "<div>\n",
       "<style scoped>\n",
       "    .dataframe tbody tr th:only-of-type {\n",
       "        vertical-align: middle;\n",
       "    }\n",
       "\n",
       "    .dataframe tbody tr th {\n",
       "        vertical-align: top;\n",
       "    }\n",
       "\n",
       "    .dataframe thead th {\n",
       "        text-align: right;\n",
       "    }\n",
       "</style>\n",
       "<table border=\"1\" class=\"dataframe\">\n",
       "  <thead>\n",
       "    <tr style=\"text-align: right;\">\n",
       "      <th></th>\n",
       "      <th>breed</th>\n",
       "      <th>page_ID</th>\n",
       "      <th>contributor_nr</th>\n",
       "      <th>last revision</th>\n",
       "      <th>total_edits</th>\n",
       "    </tr>\n",
       "  </thead>\n",
       "  <tbody>\n",
       "    <tr>\n",
       "      <th>0</th>\n",
       "      <td>Thoroughbred</td>\n",
       "      <td>Q210826</td>\n",
       "      <td>{'Máté': 1, 'KrBot': 3, 'MatSuBot': 2, 'Simon ...</td>\n",
       "      <td>2018-12-08 17:56:48</td>\n",
       "      <td>116</td>\n",
       "    </tr>\n",
       "    <tr>\n",
       "      <th>1</th>\n",
       "      <td>Mustang</td>\n",
       "      <td>Q211848</td>\n",
       "      <td>{'189.202.74.129': 1, 'KrBot': 3, 'MatSuBot': ...</td>\n",
       "      <td>2018-11-14 20:48:33</td>\n",
       "      <td>85</td>\n",
       "    </tr>\n",
       "    <tr>\n",
       "      <th>2</th>\n",
       "      <td>Arabian horse</td>\n",
       "      <td>Q184138</td>\n",
       "      <td>{'جار الله': 1, 'Russian Rocky': 1, 'KrBot': 2...</td>\n",
       "      <td>2018-12-19 22:52:54</td>\n",
       "      <td>81</td>\n",
       "    </tr>\n",
       "    <tr>\n",
       "      <th>3</th>\n",
       "      <td>Akhal-Teke</td>\n",
       "      <td>Q472753</td>\n",
       "      <td>{'Russian Rocky': 1, 'KrBot': 3, 'Czeva': 1, '...</td>\n",
       "      <td>2018-12-16 09:00:29</td>\n",
       "      <td>62</td>\n",
       "    </tr>\n",
       "    <tr>\n",
       "      <th>4</th>\n",
       "      <td>Andalusian horse</td>\n",
       "      <td>Q489798</td>\n",
       "      <td>{'KrBot': 4, 'MatSuBot': 3, 'Ma3r': 1, 'Magnus...</td>\n",
       "      <td>2018-11-02 23:19:31</td>\n",
       "      <td>60</td>\n",
       "    </tr>\n",
       "    <tr>\n",
       "      <th>5</th>\n",
       "      <td>Lipizzan</td>\n",
       "      <td>Q217671</td>\n",
       "      <td>{'KrBot': 4, 'MatSuBot': 2, 'Andreevart': 1, '...</td>\n",
       "      <td>2018-11-02 23:19:02</td>\n",
       "      <td>58</td>\n",
       "    </tr>\n",
       "    <tr>\n",
       "      <th>6</th>\n",
       "      <td>American Quarter Horse</td>\n",
       "      <td>Q466602</td>\n",
       "      <td>{'KrBot': 3, 'DenesFeri': 1, 'Adventurous36': ...</td>\n",
       "      <td>2018-11-02 23:19:27</td>\n",
       "      <td>56</td>\n",
       "    </tr>\n",
       "    <tr>\n",
       "      <th>7</th>\n",
       "      <td>Shetland pony</td>\n",
       "      <td>Q214720</td>\n",
       "      <td>{'Karoke Cirno': 1, 'KrBot': 2, 'JhealdBatch':...</td>\n",
       "      <td>2018-11-25 09:27:25</td>\n",
       "      <td>54</td>\n",
       "    </tr>\n",
       "    <tr>\n",
       "      <th>8</th>\n",
       "      <td>Icelandic horse</td>\n",
       "      <td>Q262924</td>\n",
       "      <td>{'KrBot': 3, 'AmaryllisGardener': 2, 'JhealdBa...</td>\n",
       "      <td>2018-11-02 23:19:08</td>\n",
       "      <td>54</td>\n",
       "    </tr>\n",
       "    <tr>\n",
       "      <th>9</th>\n",
       "      <td>Criollo horse</td>\n",
       "      <td>Q1140113</td>\n",
       "      <td>{'KrBot': 2, 'Adventurous36': 12, 'MatSuBot': ...</td>\n",
       "      <td>2018-11-02 23:21:05</td>\n",
       "      <td>53</td>\n",
       "    </tr>\n",
       "  </tbody>\n",
       "</table>\n",
       "</div>"
      ],
      "text/plain": [
       "                    breed   page_ID  \\\n",
       "0            Thoroughbred   Q210826   \n",
       "1                 Mustang   Q211848   \n",
       "2           Arabian horse   Q184138   \n",
       "3              Akhal-Teke   Q472753   \n",
       "4        Andalusian horse   Q489798   \n",
       "5                Lipizzan   Q217671   \n",
       "6  American Quarter Horse   Q466602   \n",
       "7           Shetland pony   Q214720   \n",
       "8         Icelandic horse   Q262924   \n",
       "9           Criollo horse  Q1140113   \n",
       "\n",
       "                                      contributor_nr       last revision  \\\n",
       "0  {'Máté': 1, 'KrBot': 3, 'MatSuBot': 2, 'Simon ... 2018-12-08 17:56:48   \n",
       "1  {'189.202.74.129': 1, 'KrBot': 3, 'MatSuBot': ... 2018-11-14 20:48:33   \n",
       "2  {'جار الله': 1, 'Russian Rocky': 1, 'KrBot': 2... 2018-12-19 22:52:54   \n",
       "3  {'Russian Rocky': 1, 'KrBot': 3, 'Czeva': 1, '... 2018-12-16 09:00:29   \n",
       "4  {'KrBot': 4, 'MatSuBot': 3, 'Ma3r': 1, 'Magnus... 2018-11-02 23:19:31   \n",
       "5  {'KrBot': 4, 'MatSuBot': 2, 'Andreevart': 1, '... 2018-11-02 23:19:02   \n",
       "6  {'KrBot': 3, 'DenesFeri': 1, 'Adventurous36': ... 2018-11-02 23:19:27   \n",
       "7  {'Karoke Cirno': 1, 'KrBot': 2, 'JhealdBatch':... 2018-11-25 09:27:25   \n",
       "8  {'KrBot': 3, 'AmaryllisGardener': 2, 'JhealdBa... 2018-11-02 23:19:08   \n",
       "9  {'KrBot': 2, 'Adventurous36': 12, 'MatSuBot': ... 2018-11-02 23:21:05   \n",
       "\n",
       "   total_edits  \n",
       "0          116  \n",
       "1           85  \n",
       "2           81  \n",
       "3           62  \n",
       "4           60  \n",
       "5           58  \n",
       "6           56  \n",
       "7           54  \n",
       "8           54  \n",
       "9           53  "
      ]
     },
     "execution_count": 43,
     "metadata": {},
     "output_type": "execute_result"
    }
   ],
   "source": [
    "Top10Sum = df.head(10)\n",
    "Top10Sum"
   ]
  },
  {
   "cell_type": "code",
   "execution_count": 44,
   "metadata": {},
   "outputs": [
    {
     "data": {
      "text/html": [
       "<div>\n",
       "<style scoped>\n",
       "    .dataframe tbody tr th:only-of-type {\n",
       "        vertical-align: middle;\n",
       "    }\n",
       "\n",
       "    .dataframe tbody tr th {\n",
       "        vertical-align: top;\n",
       "    }\n",
       "\n",
       "    .dataframe thead th {\n",
       "        text-align: right;\n",
       "    }\n",
       "</style>\n",
       "<table border=\"1\" class=\"dataframe\">\n",
       "  <thead>\n",
       "    <tr style=\"text-align: right;\">\n",
       "      <th></th>\n",
       "      <th>breed</th>\n",
       "      <th>page_ID</th>\n",
       "      <th>contributor_nr</th>\n",
       "      <th>last revision</th>\n",
       "      <th>total_edits</th>\n",
       "    </tr>\n",
       "  </thead>\n",
       "  <tbody>\n",
       "    <tr>\n",
       "      <th>271</th>\n",
       "      <td>Angevin horse</td>\n",
       "      <td>Q2849573</td>\n",
       "      <td>{'Pi bot': 1, 'Nono314': 2, 'Dexbot': 2, 'Frie...</td>\n",
       "      <td>2018-05-05 22:44:17</td>\n",
       "      <td>7</td>\n",
       "    </tr>\n",
       "    <tr>\n",
       "      <th>272</th>\n",
       "      <td>Karacabey horse</td>\n",
       "      <td>Q3192903</td>\n",
       "      <td>{'KrBot': 2, 'Shinnin': 1, 'Dexbot': 1, 'Gerar...</td>\n",
       "      <td>2018-11-02 23:22:59</td>\n",
       "      <td>6</td>\n",
       "    </tr>\n",
       "    <tr>\n",
       "      <th>273</th>\n",
       "      <td>Unmol</td>\n",
       "      <td>Q3551917</td>\n",
       "      <td>{'KrBot': 2, 'Shinnin': 1, 'Justlettersandnumb...</td>\n",
       "      <td>2018-11-02 23:23:22</td>\n",
       "      <td>6</td>\n",
       "    </tr>\n",
       "    <tr>\n",
       "      <th>274</th>\n",
       "      <td>Friesian cross</td>\n",
       "      <td>Q5504459</td>\n",
       "      <td>{'KrBot': 2, 'Shinnin': 1, 'GerardM': 1, 'Sk!d...</td>\n",
       "      <td>2018-11-02 23:23:50</td>\n",
       "      <td>5</td>\n",
       "    </tr>\n",
       "    <tr>\n",
       "      <th>275</th>\n",
       "      <td>North American Single-footing Horse</td>\n",
       "      <td>Q22286429</td>\n",
       "      <td>{'Ammarpad': 1, 'MatSuBot': 1, 'Mateo K 01': 1...</td>\n",
       "      <td>2018-11-14 06:17:08</td>\n",
       "      <td>5</td>\n",
       "    </tr>\n",
       "    <tr>\n",
       "      <th>276</th>\n",
       "      <td>Ventasso horse</td>\n",
       "      <td>Q2962956</td>\n",
       "      <td>{'KrBot': 2, 'Shinnin': 1, 'GerardM': 1, 'Sk!d...</td>\n",
       "      <td>2018-11-02 23:22:42</td>\n",
       "      <td>5</td>\n",
       "    </tr>\n",
       "    <tr>\n",
       "      <th>277</th>\n",
       "      <td>Colonial Spanish horse</td>\n",
       "      <td>Q2962917</td>\n",
       "      <td>{'BD2412': 1, 'MatSuBot': 1, 'Tuanminh01': 1, ...</td>\n",
       "      <td>2018-11-24 17:24:00</td>\n",
       "      <td>4</td>\n",
       "    </tr>\n",
       "    <tr>\n",
       "      <th>278</th>\n",
       "      <td>Mountain Pleasure Horse</td>\n",
       "      <td>Q22286238</td>\n",
       "      <td>{'KrBot': 2, 'Bamyers99': 1, 'GZWDer (flood)': 1}</td>\n",
       "      <td>2018-11-02 23:25:06</td>\n",
       "      <td>4</td>\n",
       "    </tr>\n",
       "    <tr>\n",
       "      <th>279</th>\n",
       "      <td>Dongola horse</td>\n",
       "      <td>Q3036272</td>\n",
       "      <td>{'Tsaag Valren': 1, 'Sk!dbot': 1}</td>\n",
       "      <td>2018-07-12 08:37:38</td>\n",
       "      <td>2</td>\n",
       "    </tr>\n",
       "    <tr>\n",
       "      <th>280</th>\n",
       "      <td>Burmese Horse</td>\n",
       "      <td>Q28231458</td>\n",
       "      <td>{'MechQuester': 1}</td>\n",
       "      <td>2017-01-13 03:13:27</td>\n",
       "      <td>1</td>\n",
       "    </tr>\n",
       "  </tbody>\n",
       "</table>\n",
       "</div>"
      ],
      "text/plain": [
       "                                   breed    page_ID  \\\n",
       "271                        Angevin horse   Q2849573   \n",
       "272                      Karacabey horse   Q3192903   \n",
       "273                                Unmol   Q3551917   \n",
       "274                       Friesian cross   Q5504459   \n",
       "275  North American Single-footing Horse  Q22286429   \n",
       "276                       Ventasso horse   Q2962956   \n",
       "277               Colonial Spanish horse   Q2962917   \n",
       "278              Mountain Pleasure Horse  Q22286238   \n",
       "279                        Dongola horse   Q3036272   \n",
       "280                        Burmese Horse  Q28231458   \n",
       "\n",
       "                                        contributor_nr       last revision  \\\n",
       "271  {'Pi bot': 1, 'Nono314': 2, 'Dexbot': 2, 'Frie... 2018-05-05 22:44:17   \n",
       "272  {'KrBot': 2, 'Shinnin': 1, 'Dexbot': 1, 'Gerar... 2018-11-02 23:22:59   \n",
       "273  {'KrBot': 2, 'Shinnin': 1, 'Justlettersandnumb... 2018-11-02 23:23:22   \n",
       "274  {'KrBot': 2, 'Shinnin': 1, 'GerardM': 1, 'Sk!d... 2018-11-02 23:23:50   \n",
       "275  {'Ammarpad': 1, 'MatSuBot': 1, 'Mateo K 01': 1... 2018-11-14 06:17:08   \n",
       "276  {'KrBot': 2, 'Shinnin': 1, 'GerardM': 1, 'Sk!d... 2018-11-02 23:22:42   \n",
       "277  {'BD2412': 1, 'MatSuBot': 1, 'Tuanminh01': 1, ... 2018-11-24 17:24:00   \n",
       "278  {'KrBot': 2, 'Bamyers99': 1, 'GZWDer (flood)': 1} 2018-11-02 23:25:06   \n",
       "279                  {'Tsaag Valren': 1, 'Sk!dbot': 1} 2018-07-12 08:37:38   \n",
       "280                                 {'MechQuester': 1} 2017-01-13 03:13:27   \n",
       "\n",
       "     total_edits  \n",
       "271            7  \n",
       "272            6  \n",
       "273            6  \n",
       "274            5  \n",
       "275            5  \n",
       "276            5  \n",
       "277            4  \n",
       "278            4  \n",
       "279            2  \n",
       "280            1  "
      ]
     },
     "execution_count": 44,
     "metadata": {},
     "output_type": "execute_result"
    }
   ],
   "source": [
    "Least10Sum = df.tail(10)\n",
    "Least10Sum"
   ]
  },
  {
   "cell_type": "markdown",
   "metadata": {},
   "source": [
    "## Plotting"
   ]
  },
  {
   "cell_type": "code",
   "execution_count": 45,
   "metadata": {},
   "outputs": [],
   "source": [
    "from matplotlib import pyplot as plt"
   ]
  },
  {
   "cell_type": "code",
   "execution_count": 46,
   "metadata": {},
   "outputs": [
    {
     "data": {
      "image/png": "[encoded data removed]",
      "text/plain": [
       "<Figure size 432x288 with 1 Axes>"
      ]
     },
     "metadata": {
      "needs_background": "light"
     },
     "output_type": "display_data"
    }
   ],
   "source": [
    "%matplotlib inline \n",
    "plt.figure()\n",
    "ax = Top10Sum.groupby('breed')['total_edits'].median().sort_values().plot(kind='barh')\n",
    "\n",
    "ax.set_xlabel(\"Number of Edits\")\n",
    "\n",
    "# Change the y axis label to Arial\n",
    "ax.set_ylabel(\"number of contributions\", fontname=\"DejaVu Sans\", fontsize=12)\n",
    "\n",
    "# Set the title \n",
    "ax.set_title(\"Most edited breeds pages\", fontname='DejaVu Sans', fontsize=18)\n",
    "\n",
    "plt.show()"
   ]
  },
  {
   "cell_type": "code",
   "execution_count": 47,
   "metadata": {},
   "outputs": [
    {
     "data": {
      "image/png": "[encoded data removed]",
      "text/plain": [
       "<Figure size 432x288 with 1 Axes>"
      ]
     },
     "metadata": {
      "needs_background": "light"
     },
     "output_type": "display_data"
    }
   ],
   "source": [
    "%matplotlib inline \n",
    "plt.figure()\n",
    "axa = Least10Sum.groupby('breed')['total_edits'].median().sort_values().plot(kind='barh')\n",
    "axa.set_xlabel(\"Number of Edits\")\n",
    "\n",
    "# Change the y axis label to Arial\n",
    "axa.set_ylabel(\"number of contributions\", fontname=\"DejaVu Sans\", fontsize=12)\n",
    "\n",
    "# Set the title \n",
    "axa.set_title(\"Least edited breeds pages\", fontname=\"DejaVu Sans\", fontsize=18)\n",
    "\n",
    "plt.show()"
   ]
  },
  {
   "cell_type": "code",
   "execution_count": 21,
   "metadata": {},
   "outputs": [
    {
     "data": {
      "image/png": "[encoded data removed]",
      "text/plain": [
       "<Figure size 432x288 with 1 Axes>"
      ]
     },
     "metadata": {
      "needs_background": "light"
     },
     "output_type": "display_data"
    }
   ],
   "source": [
    "%matplotlib inline \n",
    "plt.figure()\n",
    "\n",
    "xo = Top10Users.groupby('User')['Edits'].median().sort_values().plot(kind='barh')\n",
    "xo.set_xlabel(\"Number of Edits\")\n",
    "\n",
    "# Change the y axis label to Arial\n",
    "xo.set_ylabel(\"User\", fontname=\"DejaVu Sans\", fontsize=12)\n",
    "\n",
    "# Set the title \n",
    "xo.set_title(\"Top horse content contributors\", fontname=\"DejaVu Sans\", fontsize=18)\n",
    "\n",
    "plt.show()"
   ]
  },
  {
   "cell_type": "code",
   "execution_count": 48,
   "metadata": {},
   "outputs": [
    {
     "data": {
      "image/png": "[encoded data removed]",
      "text/plain": [
       "<Figure size 432x288 with 1 Axes>"
      ]
     },
     "metadata": {
      "needs_background": "light"
     },
     "output_type": "display_data"
    }
   ],
   "source": [
    "xo = Top10Users.groupby('User')['Edits'].median().sort_values().plot(kind='barh')\n",
    "xo.set_xlabel(\"Number of Edits\")\n",
    "\n",
    "# Change the y axis label to Arial\n",
    "xo.set_ylabel(\"User\", fontname=\"DejaVu Sans\", fontsize=12)\n",
    "\n",
    "# Set the title \n",
    "xo.set_title(\"Top horse content contributors\", fontname=\"DejaVu Sans\", fontsize=18)\n",
    "\n",
    "plt.show()"
   ]
  },
  {
   "cell_type": "markdown",
   "metadata": {},
   "source": [
    "# Contribuors range\n",
    "- Contributed Edits for less than equal to 50\n",
    "- Contributed Edits between 50 to 300\n",
    "- Contributed Edits for more than 300 times."
   ]
  },
  {
   "cell_type": "code",
   "execution_count": 49,
   "metadata": {},
   "outputs": [
    {
     "name": "stdout",
     "output_type": "stream",
     "text": [
      "675\n",
      "648\n"
     ]
    },
    {
     "data": {
      "text/html": [
       "<div>\n",
       "<style scoped>\n",
       "    .dataframe tbody tr th:only-of-type {\n",
       "        vertical-align: middle;\n",
       "    }\n",
       "\n",
       "    .dataframe tbody tr th {\n",
       "        vertical-align: top;\n",
       "    }\n",
       "\n",
       "    .dataframe thead th {\n",
       "        text-align: right;\n",
       "    }\n",
       "</style>\n",
       "<table border=\"1\" class=\"dataframe\">\n",
       "  <thead>\n",
       "    <tr style=\"text-align: right;\">\n",
       "      <th></th>\n",
       "      <th>User</th>\n",
       "      <th>Edits</th>\n",
       "      <th>Category</th>\n",
       "    </tr>\n",
       "  </thead>\n",
       "  <tbody>\n",
       "    <tr>\n",
       "      <th>0</th>\n",
       "      <td>KrBot</td>\n",
       "      <td>586</td>\n",
       "      <td>High</td>\n",
       "    </tr>\n",
       "    <tr>\n",
       "      <th>1</th>\n",
       "      <td>Dexbot</td>\n",
       "      <td>434</td>\n",
       "      <td>High</td>\n",
       "    </tr>\n",
       "    <tr>\n",
       "      <th>2</th>\n",
       "      <td>Tsaag Valren</td>\n",
       "      <td>412</td>\n",
       "      <td>High</td>\n",
       "    </tr>\n",
       "    <tr>\n",
       "      <th>3</th>\n",
       "      <td>Legobot</td>\n",
       "      <td>408</td>\n",
       "      <td>High</td>\n",
       "    </tr>\n",
       "    <tr>\n",
       "      <th>4</th>\n",
       "      <td>GerardM</td>\n",
       "      <td>284</td>\n",
       "      <td>Med</td>\n",
       "    </tr>\n",
       "  </tbody>\n",
       "</table>\n",
       "</div>"
      ],
      "text/plain": [
       "           User  Edits Category\n",
       "0         KrBot    586     High\n",
       "1        Dexbot    434     High\n",
       "2  Tsaag Valren    412     High\n",
       "3       Legobot    408     High\n",
       "4       GerardM    284      Med"
      ]
     },
     "execution_count": 49,
     "metadata": {},
     "output_type": "execute_result"
    }
   ],
   "source": [
    "print(len(c_e_map_df))\n",
    "print(len(c_e_map_df.loc[c_e_map_df['Edits']<=50]))\n",
    "\n",
    "# Low(0) : <=50, Med(1): 50 < edits <=300, High(2): > 300\n",
    "c_e_map_df.loc[c_e_map_df['Edits'] <=50, 'Category'] = 'Low'\n",
    "c_e_map_df.loc[(c_e_map_df['Edits'] > 50) & (c_e_map_df['Edits'] <= 300), 'Category'] = 'Med'\n",
    "c_e_map_df.loc[c_e_map_df['Edits'] > 300, 'Category'] = 'High'\n",
    "c_e_map_df.head()"
   ]
  },
  {
   "cell_type": "code",
   "execution_count": 50,
   "metadata": {},
   "outputs": [
    {
     "data": {
      "text/html": [
       "<div>\n",
       "<style scoped>\n",
       "    .dataframe tbody tr th:only-of-type {\n",
       "        vertical-align: middle;\n",
       "    }\n",
       "\n",
       "    .dataframe tbody tr th {\n",
       "        vertical-align: top;\n",
       "    }\n",
       "\n",
       "    .dataframe thead th {\n",
       "        text-align: right;\n",
       "    }\n",
       "</style>\n",
       "<table border=\"1\" class=\"dataframe\">\n",
       "  <thead>\n",
       "    <tr style=\"text-align: right;\">\n",
       "      <th></th>\n",
       "      <th>User</th>\n",
       "      <th>Edits</th>\n",
       "    </tr>\n",
       "    <tr>\n",
       "      <th>Category</th>\n",
       "      <th></th>\n",
       "      <th></th>\n",
       "    </tr>\n",
       "  </thead>\n",
       "  <tbody>\n",
       "    <tr>\n",
       "      <th>High</th>\n",
       "      <td>4</td>\n",
       "      <td>4</td>\n",
       "    </tr>\n",
       "    <tr>\n",
       "      <th>Low</th>\n",
       "      <td>648</td>\n",
       "      <td>648</td>\n",
       "    </tr>\n",
       "    <tr>\n",
       "      <th>Med</th>\n",
       "      <td>23</td>\n",
       "      <td>23</td>\n",
       "    </tr>\n",
       "  </tbody>\n",
       "</table>\n",
       "</div>"
      ],
      "text/plain": [
       "          User  Edits\n",
       "Category             \n",
       "High         4      4\n",
       "Low        648    648\n",
       "Med         23     23"
      ]
     },
     "execution_count": 50,
     "metadata": {},
     "output_type": "execute_result"
    }
   ],
   "source": [
    "# Count of each category\n",
    "c_e_map_df.groupby(['Category']).count()"
   ]
  },
  {
   "cell_type": "code",
   "execution_count": 51,
   "metadata": {},
   "outputs": [
    {
     "data": {
      "text/plain": [
       "<matplotlib.axes._subplots.AxesSubplot at 0x7f5de2ff9668>"
      ]
     },
     "execution_count": 51,
     "metadata": {},
     "output_type": "execute_result"
    },
    {
     "data": {
      "image/png": "[encoded data removed]",
      "text/plain": [
       "<Figure size 432x288 with 1 Axes>"
      ]
     },
     "metadata": {
      "needs_background": "light"
     },
     "output_type": "display_data"
    }
   ],
   "source": [
    "c_e_map_df[['Edits', 'Category']].groupby(['Category']).count().plot(kind=\"bar\", title=\"Group of users as per editing Category\")"
   ]
  },
  {
   "cell_type": "markdown",
   "metadata": {},
   "source": [
    "## Explore any user details\n",
    "- Let's say user='KrBot\n",
    "- made over 500 edits\n",
    "- what breeds\n",
    "- on what days he edited : can't say as last revision date could be change by any user\n",
    "- what is information about him available\n"
   ]
  },
  {
   "cell_type": "code",
   "execution_count": 52,
   "metadata": {},
   "outputs": [],
   "source": [
    "def get_top_breeds_of_user(user='KrBot', top_count=5):\n",
    "    top_breeds = sorted(contributor_breed_edits_mapping[user].items(), key=lambda kv: kv[1])\n",
    "    return top_breeds[:top_count]\n",
    "\n",
    "def user_details(user='KrBot'):\n",
    "    total_edits = c_e_map_df.loc[c_e_map_df['User'] == user, 'Edits'].iloc[0]\n",
    "    print(\"Total Number of Edits by '{user}' is {edits}\".format(user=user, edits = total_edits))\n",
    "    # top 5 breeds of user\n",
    "    top_breeds = get_top_breeds_of_user(user='KrBot', top_count=5)\n",
    "    print(\"Top breeds of '{user}' are {edits} \".format(user=user, edits=top_breeds))"
   ]
  },
  {
   "cell_type": "code",
   "execution_count": 53,
   "metadata": {},
   "outputs": [
    {
     "name": "stdout",
     "output_type": "stream",
     "text": [
      "Total Number of Edits by 'KrBot' is 586\n",
      "Top breeds of 'KrBot' are [('Bidet horse', 1), ('Arabian horse', 2), ('Shetland pony', 2), ('Criollo horse', 2), ('Percheron', 2)] \n"
     ]
    }
   ],
   "source": [
    "user_details(user='KrBot')"
   ]
  },
  {
   "cell_type": "code",
   "execution_count": 54,
   "metadata": {},
   "outputs": [
    {
     "name": "stdout",
     "output_type": "stream",
     "text": [
      "Total Number of Edits by 'Shinnin' is 255\n",
      "Top breeds of 'Shinnin' are [('Bidet horse', 1), ('Arabian horse', 2), ('Shetland pony', 2), ('Criollo horse', 2), ('Percheron', 2)] \n"
     ]
    }
   ],
   "source": [
    "user_details(user='Shinnin')"
   ]
  },
  {
   "cell_type": "markdown",
   "metadata": {},
   "source": [
    "## Which page has got the most edits"
   ]
  },
  {
   "cell_type": "code",
   "execution_count": 55,
   "metadata": {},
   "outputs": [
    {
     "data": {
      "text/plain": [
       "'Q210826'"
      ]
     },
     "execution_count": 55,
     "metadata": {},
     "output_type": "execute_result"
    }
   ],
   "source": [
    "page_id = df.head(1)['page_ID'].iloc[0]\n",
    "page_id"
   ]
  },
  {
   "cell_type": "markdown",
   "metadata": {},
   "source": [
    "## Which page has got the least edits"
   ]
  },
  {
   "cell_type": "code",
   "execution_count": 56,
   "metadata": {},
   "outputs": [
    {
     "data": {
      "text/plain": [
       "'Q28231458'"
      ]
     },
     "execution_count": 56,
     "metadata": {},
     "output_type": "execute_result"
    }
   ],
   "source": [
    "page_id = df.tail(1)['page_ID'].iloc[0]\n",
    "page_id"
   ]
  },
  {
   "cell_type": "markdown",
   "metadata": {},
   "source": [
    "## Which breed has got the most edits"
   ]
  },
  {
   "cell_type": "code",
   "execution_count": 57,
   "metadata": {},
   "outputs": [
    {
     "data": {
      "text/plain": [
       "'Thoroughbred'"
      ]
     },
     "execution_count": 57,
     "metadata": {},
     "output_type": "execute_result"
    }
   ],
   "source": [
    "breed = df.head(1)['breed'].iloc[0]\n",
    "breed"
   ]
  },
  {
   "cell_type": "markdown",
   "metadata": {},
   "source": [
    "## Which page has got the least edits"
   ]
  },
  {
   "cell_type": "code",
   "execution_count": 58,
   "metadata": {},
   "outputs": [
    {
     "data": {
      "text/plain": [
       "'Burmese Horse'"
      ]
     },
     "execution_count": 58,
     "metadata": {},
     "output_type": "execute_result"
    }
   ],
   "source": [
    "breed = df.tail(1)['breed'].iloc[0]\n",
    "breed"
   ]
  },
  {
   "cell_type": "code",
   "execution_count": 67,
   "metadata": {},
   "outputs": [
    {
     "data": {
      "text/plain": [
       "['Thoroughbred',\n",
       " 'Mustang',\n",
       " 'Arabian horse',\n",
       " 'Akhal-Teke',\n",
       " 'Andalusian horse',\n",
       " 'Lipizzan',\n",
       " 'American Quarter Horse',\n",
       " 'Shetland pony',\n",
       " 'Icelandic horse',\n",
       " 'Criollo horse']"
      ]
     },
     "execution_count": 67,
     "metadata": {},
     "output_type": "execute_result"
    }
   ],
   "source": [
    "list(contributor_breed_edits_mapping[user].keys())[:10]"
   ]
  },
  {
   "cell_type": "markdown",
   "metadata": {},
   "source": [
    "## Networking"
   ]
  },
  {
   "cell_type": "code",
   "execution_count": 77,
   "metadata": {},
   "outputs": [
    {
     "name": "stderr",
     "output_type": "stream",
     "text": [
      "WARNING: /usr/local/lib/python3.6/dist-packages/networkx/drawing/nx_pylab.py:611: MatplotlibDeprecationWarning: isinstance(..., numbers.Number)\n",
      "  if cb.is_numlike(alpha):\n",
      "\n"
     ]
    },
    {
     "data": {
      "image/png": "[encoded data removed]",
      "text/plain": [
       "<Figure size 432x288 with 1 Axes>"
      ]
     },
     "metadata": {},
     "output_type": "display_data"
    }
   ],
   "source": [
    "import networkx as nx\n",
    "\n",
    "# Build a dataframe with 4 connections\n",
    "user=\"KrBot\"\n",
    "to = list(contributor_breed_edits_mapping[user].keys())[:10]\n",
    "df_2 = pd.DataFrame.from_dict({'from':user, 'to':to})\n",
    "\n",
    " \n",
    "# Build your graph\n",
    "G=nx.from_pandas_edgelist(df_2, 'from', 'to')\n",
    " \n",
    "# Plot it\n",
    "nx.draw(G, with_labels=True)\n",
    "plt.title(\"Contributors to breed\")\n",
    "plt.show()\n"
   ]
  }
 ],
 "metadata": {
  "kernelspec": {
   "display_name": "Python 3",
   "language": "python",
   "name": "python3"
  },
  "language_info": {
   "codemirror_mode": {
    "name": "ipython",
    "version": 3
   },
   "file_extension": ".py",
   "mimetype": "text/x-python",
   "name": "python",
   "nbconvert_exporter": "python",
   "pygments_lexer": "ipython3",
   "version": "3.6.7"
  }
 },
 "nbformat": 4,
 "nbformat_minor": 2
}
